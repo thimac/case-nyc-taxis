{
 "cells": [
  {
   "cell_type": "code",
   "execution_count": 0,
   "metadata": {
    "application/vnd.databricks.v1+cell": {
     "cellMetadata": {
      "byteLimit": 2048000,
      "rowLimit": 10000
     },
     "inputWidgets": {},
     "nuid": "5cbacd40-e49c-4138-928a-2b1b19a6e520",
     "showTitle": false,
     "tableResultSettingsMap": {},
     "title": ""
    }
   },
   "outputs": [],
   "source": [
    "#import os\n",
    "from pyspark.sql import SparkSession\n",
    "from pyspark.sql.types import StructType, StructField, LongType, DoubleType, TimestampType\n",
    "from pyspark.sql.functions import *\n",
    "\n",
    "# Configura as credenciais AWS a partir de variáveis de ambiente\n",
    "spark = SparkSession.builder \\\n",
    "    .config(\"fs.s3a.access.key\", os.getenv(\"AWS_ACCESS_KEY_ID\")) \\\n",
    "    .config(\"fs.s3a.secret.key\", os.getenv(\"AWS_SECRET_ACCESS_KEY\")) \\\n",
    "    .config(\"fs.s3a.endpoint\", \"s3.sa-east-1.amazonaws.com\") \\\n",
    "    .config(\"fs.s3a.region\", \"sa-east-1\") \\\n",
    "    .getOrCreate()"
   ]
  },
  {
   "cell_type": "code",
   "execution_count": 0,
   "metadata": {
    "application/vnd.databricks.v1+cell": {
     "cellMetadata": {
      "byteLimit": 2048000,
      "implicitDf": true,
      "rowLimit": 10000
     },
     "inputWidgets": {},
     "nuid": "3ea79d80-872c-4b04-811b-cd7b93c861c9",
     "showTitle": false,
     "tableResultSettingsMap": {},
     "title": ""
    }
   },
   "outputs": [
    {
     "data": {
      "text/html": [
       "<style scoped>\n",
       "  .table-result-container {\n",
       "    max-height: 300px;\n",
       "    overflow: auto;\n",
       "  }\n",
       "  table, th, td {\n",
       "    border: 1px solid black;\n",
       "    border-collapse: collapse;\n",
       "  }\n",
       "  th, td {\n",
       "    padding: 5px;\n",
       "  }\n",
       "  th {\n",
       "    text-align: left;\n",
       "  }\n",
       "</style><div class='table-result-container'><table class='table-result'><thead style='background-color: white'><tr><th>database</th><th>tableName</th><th>isTemporary</th></tr></thead><tbody><tr><td>default</td><td>taxi_consumo</td><td>false</td></tr></tbody></table></div>"
      ]
     },
     "metadata": {
      "application/vnd.databricks.v1+output": {
       "addedWidgets": {},
       "aggData": [],
       "aggError": "",
       "aggOverflow": false,
       "aggSchema": [],
       "aggSeriesLimitReached": false,
       "aggType": "",
       "arguments": {},
       "columnCustomDisplayInfos": {},
       "data": [
        [
         "default",
         "taxi_consumo",
         false
        ]
       ],
       "datasetInfos": [],
       "dbfsResultPath": null,
       "isJsonSchema": true,
       "metadata": {
        "dataframeName": "_sqldf",
        "executionCount": 3
       },
       "overflow": false,
       "plotOptions": {
        "customPlotOptions": {},
        "displayType": "table",
        "pivotAggregation": null,
        "pivotColumns": null,
        "xColumns": null,
        "yColumns": null
       },
       "removedWidgets": [],
       "schema": [
        {
         "metadata": "{}",
         "name": "database",
         "type": "\"string\""
        },
        {
         "metadata": "{}",
         "name": "tableName",
         "type": "\"string\""
        },
        {
         "metadata": "{}",
         "name": "isTemporary",
         "type": "\"boolean\""
        }
       ],
       "type": "table"
      }
     },
     "output_type": "display_data"
    }
   ],
   "source": [
    "%sql\n",
    "\n",
    "SHOW TABLES"
   ]
  },
  {
   "cell_type": "code",
   "execution_count": 0,
   "metadata": {
    "application/vnd.databricks.v1+cell": {
     "cellMetadata": {
      "byteLimit": 2048000,
      "implicitDf": true,
      "rowLimit": 10000
     },
     "inputWidgets": {},
     "nuid": "de46eb66-e8bf-4191-b3ab-30d49468de08",
     "showTitle": false,
     "tableResultSettingsMap": {},
     "title": ""
    }
   },
   "outputs": [],
   "source": [
    "df = spark.sql(\"SELECT * FROM taxi_consumo\")"
   ]
  },
  {
   "cell_type": "code",
   "execution_count": 0,
   "metadata": {
    "application/vnd.databricks.v1+cell": {
     "cellMetadata": {
      "byteLimit": 2048000,
      "rowLimit": 10000
     },
     "inputWidgets": {},
     "nuid": "a9f5a3d3-d23d-4162-aa75-1088b9389400",
     "showTitle": false,
     "tableResultSettingsMap": {},
     "title": ""
    }
   },
   "outputs": [
    {
     "name": "stdout",
     "output_type": "stream",
     "text": [
      "\n",
      "=== Contagem total de registros ===\n",
      "Total de viagens: 16,526,016\n",
      "Total de viagens frota Yellow: 16,186,386\n",
      "Total de viagens forta Green: 339,630\n",
      "\n",
      "=== Estatísticas Descritivas ===\n",
      "+-------+------------------+------------------+------------------+---------+------------------+\n",
      "|summary|          VendorID|   passenger_count|      total_amount|taxi_type|        mes_pickup|\n",
      "+-------+------------------+------------------+------------------+---------+------------------+\n",
      "|  count|          16526016|          16526016|          16526016| 16526016|          16526016|\n",
      "|   mean|1.7336136549789132|1.3504597841367212|27.730418327008117|     NULL|3.0769190832200572|\n",
      "| stddev|0.4474873750706474|0.8818503906156275|22.833918395911294|     NULL|1.4154663190511665|\n",
      "|    min|                 1|                 0|           -982.95|    green|                 1|\n",
      "|    max|                 6|                 9|            6304.9|   yellow|                12|\n",
      "+-------+------------------+------------------+------------------+---------+------------------+\n",
      "\n",
      "\n",
      "=== Estatísticas por VendorID ===\n",
      "+--------+-----------+------------------+-------------------+------------------+-------------------+\n",
      "|VendorID|num_viagens|       valor_medio|desvio_padrao_valor| media_passageiros|mediana_passageiros|\n",
      "+--------+-----------+------------------+-------------------+------------------+-------------------+\n",
      "|       6|       3983| 45.23104192819484| 17.073369176929674|               1.0|                1.0|\n",
      "|       1|    4418237| 26.61077946476263| 20.611894553961644|1.2101915311469258|                1.0|\n",
      "|       2|   12103796|28.133360087150557|  23.57926706578532|1.4017770953839606|                1.0|\n",
      "+--------+-----------+------------------+-------------------+------------------+-------------------+\n",
      "\n"
     ]
    }
   ],
   "source": [
    "tipo_taxi = [\"yellow\", \"green\"]\n",
    "print(\"\\n=== Contagem total de registros ===\")\n",
    "print(f\"Total de viagens: {df.count():,}\")\n",
    "print(f\"Total de viagens frota Yellow: {df.filter(df.taxi_type == tipo_taxi[0]).count():,}\")\n",
    "print(f\"Total de viagens forta Green: {df.filter(df.taxi_type == tipo_taxi[1]).count():,}\")\n",
    "\n",
    "print(\"\\n=== Estatísticas Descritivas ===\")\n",
    "df.describe().show()\n",
    "\n",
    "print(\"\\n=== Estatísticas por VendorID ===\")\n",
    "df.groupBy(\"VendorID\").agg(\n",
    "    count(\"*\").alias(\"num_viagens\"),\n",
    "    mean(\"total_amount\").alias(\"valor_medio\"),\n",
    "    stddev(\"total_amount\").alias(\"desvio_padrao_valor\"),\n",
    "    mean(\"passenger_count\").alias(\"media_passageiros\"),\n",
    "    median(\"passenger_count\").alias(\"mediana_passageiros\")\n",
    ").show()"
   ]
  },
  {
   "cell_type": "code",
   "execution_count": 0,
   "metadata": {
    "application/vnd.databricks.v1+cell": {
     "cellMetadata": {
      "byteLimit": 2048000,
      "rowLimit": 10000
     },
     "inputWidgets": {},
     "nuid": "f6d1b76d-e0fc-4db5-83c4-880a6fa0e877",
     "showTitle": false,
     "tableResultSettingsMap": {},
     "title": ""
    }
   },
   "outputs": [
    {
     "name": "stdout",
     "output_type": "stream",
     "text": [
      "+----------+-----------+\n",
      "|mes_pickup|media_valor|\n",
      "+----------+-----------+\n",
      "|         1|      27.02|\n",
      "|         2|       26.9|\n",
      "|         3|       27.8|\n",
      "|         4|      28.27|\n",
      "|         5|      28.96|\n",
      "|         6|      37.23|\n",
      "|         7|      20.72|\n",
      "|         8|      25.68|\n",
      "|         9|      12.96|\n",
      "|        10|      69.14|\n",
      "|        11|      52.38|\n",
      "|        12|      32.93|\n",
      "+----------+-----------+\n",
      "\n"
     ]
    }
   ],
   "source": [
    "media_valor_yellow = df.filter(col(\"taxi_type\") == \"yellow\") \\\n",
    "                      .groupBy(\"mes_pickup\") \\\n",
    "                      .agg(round(mean(\"total_amount\"),2).alias(\"media_valor\")) \\\n",
    "                      .orderBy(\"mes_pickup\")\n",
    "media_valor_yellow.show()"
   ]
  },
  {
   "cell_type": "code",
   "execution_count": 0,
   "metadata": {
    "application/vnd.databricks.v1+cell": {
     "cellMetadata": {
      "byteLimit": 2048000,
      "rowLimit": 10000
     },
     "inputWidgets": {},
     "nuid": "5feabf2a-1302-4b67-a691-f22add98f35e",
     "showTitle": false,
     "tableResultSettingsMap": {},
     "title": ""
    }
   },
   "outputs": [
    {
     "name": "stdout",
     "output_type": "stream",
     "text": [
      "+-----------+-----------------+\n",
      "|hora_pickup|media_passageiros|\n",
      "+-----------+-----------------+\n",
      "|          0|              1.4|\n",
      "|          1|              1.4|\n",
      "|          2|             1.42|\n",
      "|          3|             1.41|\n",
      "|          4|             1.35|\n",
      "|          5|             1.24|\n",
      "|          6|             1.22|\n",
      "|          7|             1.24|\n",
      "|          8|             1.25|\n",
      "|          9|             1.27|\n",
      "|         10|             1.31|\n",
      "|         11|             1.32|\n",
      "|         12|             1.34|\n",
      "|         13|             1.35|\n",
      "|         14|             1.35|\n",
      "|         15|             1.36|\n",
      "|         16|             1.36|\n",
      "|         17|             1.35|\n",
      "|         18|             1.35|\n",
      "|         19|             1.36|\n",
      "+-----------+-----------------+\n",
      "only showing top 20 rows\n",
      "\n"
     ]
    }
   ],
   "source": [
    "media_passageiros =  df.filter(month(col(\"pickup_datetime\")) == 5) \\\n",
    "                       .groupBy(hour(col(\"pickup_datetime\")).alias(\"hora_pickup\")) \\\n",
    "                       .agg(round(avg(\"passenger_count\"),2).alias(\"media_passageiros\")) \\\n",
    "                       .orderBy(\"hora_pickup\")\n",
    "\n",
    "media_passageiros.show()"
   ]
  }
 ],
 "metadata": {
  "application/vnd.databricks.v1+notebook": {
   "computePreferences": null,
   "dashboards": [],
   "environmentMetadata": {
    "base_environment": "",
    "environment_version": "1"
   },
   "inputWidgetPreferences": null,
   "language": "python",
   "notebookMetadata": {
    "mostRecentlyExecutedCommandWithImplicitDF": {
     "commandId": 3204769588998662,
     "dataframes": [
      "_sqldf"
     ]
    },
    "pythonIndentUnit": 4
   },
   "notebookName": "consumo_analise",
   "widgets": {}
  },
  "language_info": {
   "name": "python"
  }
 },
 "nbformat": 4,
 "nbformat_minor": 0
}
