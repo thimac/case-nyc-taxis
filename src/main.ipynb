{
 "cells": [
  {
   "cell_type": "code",
   "execution_count": null,
   "metadata": {
    "application/vnd.databricks.v1+cell": {
     "cellMetadata": {
      "byteLimit": 2048000,
      "rowLimit": 10000
     },
     "inputWidgets": {},
     "nuid": "be13bef6-7d4f-4fac-b0e6-4a057ec58714",
     "showTitle": false,
     "tableResultSettingsMap": {},
     "title": ""
    }
   },
   "outputs": [],
   "source": [
    "import subprocess\n",
    "import sys\n",
    "import os\n",
    "\n",
    "print(\"--- Iniciando pipeline de ETL ---\")\n",
    "\n",
    "try:\n",
    "    print(\"\\n[PASSO 1/2] Executando notebook de ingestão...\")\n",
    "    # Certifique-se de que o caminho para o notebook está correto\n",
    "    dbutils.notebook.run(\"./1_ingestao.ipynb\", timeout_seconds=3600)\n",
    "    print(\"[PASSO 1/2] Ingestão concluída com sucesso.\")\n",
    "except Exception as e:\n",
    "    print(\"\\nERRO: O notebook de ingestão falhou.\")\n",
    "    raise e"
   ]
  },
  {
   "cell_type": "code",
   "execution_count": 0,
   "metadata": {
    "application/vnd.databricks.v1+cell": {
     "cellMetadata": {},
     "inputWidgets": {},
     "nuid": "1cd47113-7910-4faa-acd9-feb1caddb286",
     "showTitle": false,
     "tableResultSettingsMap": {},
     "title": ""
    }
   },
   "outputs": [],
   "source": [
    "try:\n",
    "    print(\"\\n[PASSO 2/2] Executando notebook de transformação com Spark...\")\n",
    "    # Certifique-se de que o caminho para o notebook está correto\n",
    "    dbutils.notebook.run(\"./1_ingestao.ipynb\", timeout_seconds=3600)\n",
    "    print(\"[PASSO 2/2] Transformação concluída com sucesso.\")\n",
    "    print(\"\\n>>> Pipeline de ETL concluído com sucesso! <<<\")\n",
    "except Exception as e:\n",
    "    print(\"\\nERRO: O notebook de transformação falhou.\")\n",
    "    raise e"
   ]
  }
 ],
 "metadata": {
  "application/vnd.databricks.v1+notebook": {
   "computePreferences": null,
   "dashboards": [],
   "environmentMetadata": null,
   "inputWidgetPreferences": null,
   "language": "python",
   "notebookMetadata": {
    "pythonIndentUnit": 4
   },
   "notebookName": "main",
   "widgets": {}
  },
  "kernelspec": {
   "display_name": "Python 3",
   "language": "python",
   "name": "python3"
  },
  "language_info": {
   "codemirror_mode": {
    "name": "ipython",
    "version": 3
   },
   "file_extension": ".py",
   "mimetype": "text/x-python",
   "name": "python",
   "nbconvert_exporter": "python",
   "pygments_lexer": "ipython3",
   "version": "3.10.12"
  }
 },
 "nbformat": 4,
 "nbformat_minor": 0
}
